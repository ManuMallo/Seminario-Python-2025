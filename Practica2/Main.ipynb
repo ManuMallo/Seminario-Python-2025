{
 "cells": [
  {
   "cell_type": "code",
   "execution_count": 1,
   "metadata": {},
   "outputs": [
    {
     "name": "stdout",
     "output_type": "stream",
     "text": [
      "                 Ranking ronda 1:                 \n",
      "  Nombre    Kills    Assists    Deaths     MVP      Score\n",
      "  Shadow      2         1         1         1         6     \n",
      "  Blaze       1         0         0         0         3     \n",
      "  Viper       1         2         1         0         4     \n",
      "  Frost       0         1         0         0         1     \n",
      "  Reaper      1         1         0         0         4     \n",
      "                 Ranking ronda 2:                 \n",
      "  Nombre    Kills    Assists    Deaths     MVP      Score\n",
      "  Shadow      2         3         1         1         8     \n",
      "  Blaze       3         0         1         0         8     \n",
      "  Viper       2         3         1         0         8     \n",
      "  Frost       2         2         1         1         7     \n",
      "  Reaper      1         2         0         0         5     \n",
      "                 Ranking ronda 3:                 \n",
      "  Nombre    Kills    Assists    Deaths     MVP      Score\n",
      "  Shadow      3         3         1         1         11    \n",
      "  Blaze       5         2         2         1         15    \n",
      "  Viper       3         4         2         0         11    \n",
      "  Frost       2         3         1         1         8     \n",
      "  Reaper      2         3         0         0         9     \n",
      "                 Ranking ronda 4:                 \n",
      "  Nombre    Kills    Assists    Deaths     MVP      Score\n",
      "  Shadow      5         4         1         2         18    \n",
      "  Blaze       6         2         3         1         17    \n",
      "  Viper       3         6         2         0         13    \n",
      "  Frost       3         4         2         1         11    \n",
      "  Reaper      3         4         0         0         13    \n",
      "                 Ranking ronda 5:                 \n",
      "  Nombre    Kills    Assists    Deaths     MVP      Score\n",
      "  Shadow      6         6         2         2         22    \n",
      "  Blaze       6         3         3         1         18    \n",
      "  Viper       5         6         3         1         18    \n",
      "  Frost       4         5         2         1         15    \n",
      "  Reaper      4         5         1         0         16    \n",
      "               Ranking ronda final:               \n",
      "  Nombre    Kills    Assists    Deaths     MVP      Score\n",
      "  Shadow      6         6         2         2         22    \n",
      "  Blaze       6         3         3         1         18    \n",
      "  Viper       5         6         3         1         18    \n",
      "  Frost       4         5         2         1         15    \n",
      "  Reaper      4         5         1         0         16    \n"
     ]
    }
   ],
   "source": [
    "from src.updater import update_stats\n",
    "from src.printer import print_score\n",
    "from src import data\n",
    "\n",
    "\n",
    "rounds = data.rounds\n",
    "player_stats = data.player_stats\n",
    "for i,round in enumerate(rounds):\n",
    "    player_stats= update_stats(player_stats,round)\n",
    "\n",
    "    print_score(player_stats,(i+1))\n",
    "\n",
    "print_score(player_stats)\n"
   ]
  }
 ],
 "metadata": {
  "kernelspec": {
   "display_name": "Python 3",
   "language": "python",
   "name": "python3"
  },
  "language_info": {
   "codemirror_mode": {
    "name": "ipython",
    "version": 3
   },
   "file_extension": ".py",
   "mimetype": "text/x-python",
   "name": "python",
   "nbconvert_exporter": "python",
   "pygments_lexer": "ipython3",
   "version": "3.12.9"
  }
 },
 "nbformat": 4,
 "nbformat_minor": 2
}
